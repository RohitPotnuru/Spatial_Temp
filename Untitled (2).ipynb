{
 "cells": [
  {
   "cell_type": "code",
   "execution_count": 1,
   "metadata": {},
   "outputs": [],
   "source": [
    "import torch\n",
    "import torch.nn as nn\n",
    "import torch.nn.functional as Fn\n",
    "\n",
    "import numpy as np\n",
    "import matplotlib.pyplot as plt\n",
    "\n",
    "\n",
    "import os\n",
    "import time\n",
    "from tqdm import tqdm \n",
    "\n",
    "import random"
   ]
  },
  {
   "cell_type": "code",
   "execution_count": 2,
   "metadata": {},
   "outputs": [],
   "source": [
    "data=np.load(\"node_timeseries/3T_HCP1200_MSMAll_d50_ts2_factor100.npy\",allow_pickle=True)"
   ]
  },
  {
   "cell_type": "code",
   "execution_count": 3,
   "metadata": {},
   "outputs": [
    {
     "name": "stdout",
     "output_type": "stream",
     "text": [
      "Data format (1003, 48, 50, 50)\n",
      "Number of subjects are 1003\n",
      "Number of sliding windows are 48\n",
      "Dimension of covarience Matrix (50, 50)\n"
     ]
    }
   ],
   "source": [
    "print(\"Data format \"+str(data.shape))\n",
    "print(\"Number of subjects are\",len(data))\n",
    "print(\"Number of sliding windows are\",len(data[0]))\n",
    "print(\"Dimension of covarience Matrix\",data[0][0].shape)"
   ]
  },
  {
   "cell_type": "code",
   "execution_count": 4,
   "metadata": {},
   "outputs": [],
   "source": [
    "testratio=0.1"
   ]
  },
  {
   "cell_type": "code",
   "execution_count": 5,
   "metadata": {},
   "outputs": [],
   "source": [
    "i=len(data[0])\n",
    "j=len(data)\n",
    "X=torch.Tensor([data[k%j][k%i] for k in range(i*j)]).view(-1,1,50,50)\n",
    "pos=int(len(X)*testratio)\n",
    "\n",
    "random.shuffle(X)\n",
    "\n",
    "trainX=X[:-pos]\n",
    "trainY=X[:-pos]\n",
    "\n",
    "testX=X[-pos:]\n",
    "testY=X[-pos:]\n"
   ]
  },
  {
   "cell_type": "code",
   "execution_count": 9,
   "metadata": {},
   "outputs": [
    {
     "name": "stdout",
     "output_type": "stream",
     "text": [
      "Model will be running on GPU\n"
     ]
    }
   ],
   "source": [
    "if torch.cuda.is_available():\n",
    "    device=torch.device(\"cuda:0\")\n",
    "    print(\"Model will be running on GPU\")\n",
    "else:\n",
    "    device=torch.device(\"cpu\")\n",
    "    print(\"Model will be running on GPU\")\n",
    "    "
   ]
  },
  {
   "cell_type": "code",
   "execution_count": 10,
   "metadata": {},
   "outputs": [],
   "source": [
    "class Net(nn.Module):\n",
    "    def __init__(self):\n",
    "        super().__init__()\n",
    "        self.conv1=nn.Conv2d(1,32,5) # input, channels, kernel size\n",
    "        self.conv2=nn.Conv2d(32,64,5)\n",
    "        self.conv3=nn.Conv2d(64,128,5)\n",
    "        self.conv4=nn.Conv2d(128,256,5)\n",
    "        \n",
    "        x=torch.randn(50,50).view(-1,1,50,50)\n",
    "        self.to_linear=None\n",
    "        self.to_tuple=None\n",
    "        self.downconv(x) \n",
    "        \n",
    "        self.fc1  =nn.Linear(self.to_linear,512)\n",
    "        self.fc2  =nn.Linear(512,256)\n",
    "\n",
    "        self.fct2 =nn.Linear(256,512)\n",
    "        self.fct1 =nn.Linear(512,self.to_linear)\n",
    "\n",
    "        self.convt4=nn.ConvTranspose2d(256,128,5)\n",
    "        self.convt3=nn.ConvTranspose2d(128, 64,5)\n",
    "        self.convt2=nn.ConvTranspose2d( 64, 32,5)\n",
    "        self.convt1=nn.ConvTranspose2d( 32,  1,5) \n",
    "    def downconv(self,x):\n",
    "        x=Fn.relu(self.conv1(x))\n",
    "        x=Fn.relu(self.conv2(x))\n",
    "        x=Fn.relu(self.conv3(x))\n",
    "        x=Fn.relu(self.conv4(x))\n",
    "        if self.to_linear is None:\n",
    "            self.to_linear=np.prod(x.size())\n",
    "        if self.to_tuple is None:\n",
    "            self.to_tuple=x.shape\n",
    "        return x\n",
    "    def downfc(self,x):\n",
    "        x=Fn.relu(self.fc1(x))\n",
    "        x=Fn.relu(self.fc2(x))\n",
    "        return x\n",
    "    \n",
    "    def upfc(self,x):\n",
    "        x=Fn.relu(self.fct2(x))\n",
    "        x=Fn.relu(self.fct1(x))\n",
    "        return x\n",
    "    \n",
    "    def upconv(self,x):\n",
    "        x=Fn.relu(self.convt4(x))\n",
    "        x=Fn.relu(self.convt3(x))\n",
    "        x=Fn.relu(self.convt2(x))\n",
    "        x=Fn.relu(self.convt1(x))\n",
    "        return x\n",
    "    \n",
    "    def forward(self,x):\n",
    "        x=self.downconv(x)\n",
    "        x=x.view(-1,self.to_linear)\n",
    "        x=self.downfc(x)\n",
    "        x=self.upfc(x)\n",
    "        \n",
    "        \n",
    "        x=x.view([-1,self.to_tuple[1],self.to_tuple[2],self.to_tuple[3]])\n",
    "        x=self.upconv(x)\n",
    "        return x\n",
    "        \n",
    "net=Net().to(device)"
   ]
  },
  {
   "cell_type": "code",
   "execution_count": 11,
   "metadata": {},
   "outputs": [
    {
     "data": {
      "text/plain": [
       "Net(\n",
       "  (conv1): Conv2d(1, 32, kernel_size=(5, 5), stride=(1, 1))\n",
       "  (conv2): Conv2d(32, 64, kernel_size=(5, 5), stride=(1, 1))\n",
       "  (conv3): Conv2d(64, 128, kernel_size=(5, 5), stride=(1, 1))\n",
       "  (conv4): Conv2d(128, 256, kernel_size=(5, 5), stride=(1, 1))\n",
       "  (fc1): Linear(in_features=295936, out_features=512, bias=True)\n",
       "  (fc2): Linear(in_features=512, out_features=256, bias=True)\n",
       "  (fct2): Linear(in_features=256, out_features=512, bias=True)\n",
       "  (fct1): Linear(in_features=512, out_features=295936, bias=True)\n",
       "  (convt4): ConvTranspose2d(256, 128, kernel_size=(5, 5), stride=(1, 1))\n",
       "  (convt3): ConvTranspose2d(128, 64, kernel_size=(5, 5), stride=(1, 1))\n",
       "  (convt2): ConvTranspose2d(64, 32, kernel_size=(5, 5), stride=(1, 1))\n",
       "  (convt1): ConvTranspose2d(32, 1, kernel_size=(5, 5), stride=(1, 1))\n",
       ")"
      ]
     },
     "execution_count": 11,
     "metadata": {},
     "output_type": "execute_result"
    }
   ],
   "source": [
    "Net()"
   ]
  },
  {
   "cell_type": "code",
   "execution_count": 12,
   "metadata": {},
   "outputs": [],
   "source": [
    "def fwd_pass(data, label, train=False):\n",
    "    \n",
    "    if train:\n",
    "        net.zero_grad()\n",
    "    output = net(data)\n",
    "    \n",
    "    \n",
    "    loss = loss_fn(output, label)\n",
    "\n",
    "    if train:\n",
    "        loss.backward()\n",
    "        optimizer.step()\n",
    "\n",
    "    return loss   "
   ]
  },
  {
   "cell_type": "code",
   "execution_count": 13,
   "metadata": {},
   "outputs": [],
   "source": [
    "import torch.optim as optim\n",
    "\n",
    "optimizer=optim.Adam(net.parameters(),lr=0.001)\n",
    "loss_fn=nn.MSELoss()"
   ]
  },
  {
   "cell_type": "code",
   "execution_count": 14,
   "metadata": {},
   "outputs": [],
   "source": [
    "def test(size=32):\n",
    "    r=np.random.randint(len(testX)-size)\n",
    "    X, y = testX[r:r+size], testY[r:r+size]\n",
    "    val_loss = fwd_pass(X.view(-1, 1, 50, 50).to(device), y.to(device))\n",
    "    return val_loss"
   ]
  },
  {
   "cell_type": "code",
   "execution_count": 15,
   "metadata": {},
   "outputs": [
    {
     "name": "stderr",
     "output_type": "stream",
     "text": [
      "100%|██████████| 434/434 [01:49<00:00,  3.96it/s]\n",
      "100%|██████████| 434/434 [01:49<00:00,  3.96it/s]\n",
      "100%|██████████| 434/434 [01:50<00:00,  3.94it/s]\n",
      "100%|██████████| 434/434 [01:50<00:00,  3.94it/s]\n",
      "100%|██████████| 434/434 [01:50<00:00,  3.94it/s]\n",
      "100%|██████████| 434/434 [01:50<00:00,  3.94it/s]\n",
      "100%|██████████| 434/434 [01:50<00:00,  3.94it/s]\n",
      "100%|██████████| 434/434 [01:50<00:00,  3.94it/s]\n",
      "100%|██████████| 434/434 [01:50<00:00,  3.94it/s]\n",
      "100%|██████████| 434/434 [01:50<00:00,  3.94it/s]\n",
      "100%|██████████| 434/434 [01:50<00:00,  3.94it/s]\n",
      "100%|██████████| 434/434 [01:50<00:00,  3.94it/s]\n",
      "100%|██████████| 434/434 [01:50<00:00,  3.94it/s]\n",
      "100%|██████████| 434/434 [01:50<00:00,  3.94it/s]\n",
      "100%|██████████| 434/434 [01:50<00:00,  3.94it/s]\n",
      "100%|██████████| 434/434 [01:50<00:00,  3.94it/s]\n",
      "100%|██████████| 434/434 [01:50<00:00,  3.94it/s]\n",
      "100%|██████████| 434/434 [01:50<00:00,  3.94it/s]\n",
      "100%|██████████| 434/434 [01:50<00:00,  3.94it/s]\n",
      "100%|██████████| 434/434 [01:50<00:00,  3.94it/s]\n",
      "100%|██████████| 434/434 [01:50<00:00,  3.93it/s]\n",
      "100%|██████████| 434/434 [01:50<00:00,  3.93it/s]\n",
      "100%|██████████| 434/434 [01:50<00:00,  3.94it/s]\n",
      "100%|██████████| 434/434 [01:50<00:00,  3.94it/s]\n",
      "100%|██████████| 434/434 [01:50<00:00,  3.94it/s]\n",
      "100%|██████████| 434/434 [01:50<00:00,  3.94it/s]\n",
      "100%|██████████| 434/434 [01:50<00:00,  3.94it/s]\n",
      "100%|██████████| 434/434 [01:50<00:00,  3.94it/s]\n",
      "100%|██████████| 434/434 [01:50<00:00,  3.94it/s]\n",
      "100%|██████████| 434/434 [01:50<00:00,  3.94it/s]\n",
      "100%|██████████| 434/434 [01:50<00:00,  3.94it/s]\n",
      "100%|██████████| 434/434 [01:50<00:00,  3.94it/s]\n",
      "100%|██████████| 434/434 [01:50<00:00,  3.94it/s]\n",
      "100%|██████████| 434/434 [01:50<00:00,  3.94it/s]\n",
      "100%|██████████| 434/434 [01:50<00:00,  3.94it/s]\n",
      "100%|██████████| 434/434 [01:50<00:00,  3.94it/s]\n",
      "100%|██████████| 434/434 [01:50<00:00,  3.94it/s]\n",
      "100%|██████████| 434/434 [01:50<00:00,  3.94it/s]\n",
      "100%|██████████| 434/434 [01:50<00:00,  3.94it/s]\n",
      "100%|██████████| 434/434 [01:50<00:00,  3.94it/s]\n",
      "100%|██████████| 434/434 [01:50<00:00,  3.94it/s]\n",
      "100%|██████████| 434/434 [01:50<00:00,  3.94it/s]\n",
      "100%|██████████| 434/434 [01:50<00:00,  3.94it/s]\n",
      "100%|██████████| 434/434 [01:50<00:00,  3.94it/s]\n",
      "100%|██████████| 434/434 [01:50<00:00,  3.94it/s]\n",
      "100%|██████████| 434/434 [01:50<00:00,  3.94it/s]\n",
      "100%|██████████| 434/434 [01:50<00:00,  3.94it/s]\n",
      "100%|██████████| 434/434 [01:50<00:00,  3.94it/s]\n",
      "100%|██████████| 434/434 [01:50<00:00,  3.94it/s]\n",
      "100%|██████████| 434/434 [01:50<00:00,  3.94it/s]\n"
     ]
    }
   ],
   "source": [
    "model=f\"model-{int(time.time())}\"\n",
    "\n",
    "batch_size=100\n",
    "\n",
    "epochs=10\n",
    "\n",
    "def train(epochs):\n",
    "    with open(\"model.log\",\"a\") as f: \n",
    "        for epoch in range (epochs):\n",
    "            for i in tqdm(range(0,len(trainX),batch_size)):\n",
    "                batchX=trainX[i:i+batch_size].view(-1,1,50,50).to(device)\n",
    "                batchY=trainY[i:i+batch_size].to(device)\n",
    "                tr_loss=fwd_pass(batchX, batchY, train=True)\n",
    "                if i%25==0:\n",
    "                    val_loss=test(size=100)\n",
    "                    f.write(f\"{model},{round(time.time(),3)},{tr_loss},{val_loss} \\n\")\n",
    "train(50)     "
   ]
  },
  {
   "cell_type": "code",
   "execution_count": 30,
   "metadata": {},
   "outputs": [
    {
     "data": {
      "image/png": "[encoded data removed]",
      "text/plain": [
       "<Figure size 432x288 with 1 Axes>"
      ]
     },
     "metadata": {},
     "output_type": "display_data"
    }
   ],
   "source": [
    "import matplotlib.pyplot as plt\n",
    "from matplotlib import style\n",
    "\n",
    "style.use(\"ggplot\")\n",
    "\n",
    "model_name = model #\"model-1570499409\" # grab whichever model name you want here. We could also just reference the MODEL_NAME if you're in a notebook still.\n",
    "\n",
    "\n",
    "def create_acc_loss_graph(model_name):\n",
    "    contents = open(\"model.log\", \"r\").read().split(\"\\n\")\n",
    "\n",
    "    times = []\n",
    "    accuracies = []\n",
    "    losses = []\n",
    "\n",
    "    val_accs = []\n",
    "    val_losses = []\n",
    "\n",
    "    for c in contents:\n",
    "        if model_name in c:\n",
    "            name,timestamp, loss, val_loss = c.split(\",\")\n",
    "\n",
    "            times.append(float(timestamp))\n",
    "            \n",
    "            losses.append(float(loss))\n",
    "\n",
    "            \n",
    "            val_losses.append(float(val_loss))\n",
    "\n",
    "\n",
    "    fig = plt.figure()\n",
    "\n",
    "    \n",
    "    ax2 = plt.subplot2grid((1,1), (0,0))\n",
    "\n",
    "\n",
    "    \n",
    "    ax2.plot(times[0:10],losses[0:10], label=\"loss\")\n",
    "    ax2.plot(times[0:10],val_losses[0:10], label=\"val_loss\")\n",
    "    ax2.legend(loc=1)\n",
    "    plt.show()\n",
    "\n",
    "create_acc_loss_graph(model_name)"
   ]
  },
  {
   "cell_type": "code",
   "execution_count": 23,
   "metadata": {},
   "outputs": [],
   "source": [
    "contents = open(\"model.log\", \"r\").read().split(\"\\n\")\n",
    "times = []\n",
    "accuracies = []\n",
    "losses = []\n",
    "\n",
    "val_accs = []\n",
    "val_losses = []\n",
    "\n",
    "for c in contents:\n",
    "    if model_name in c:\n",
    "        name,timestamp, loss, val_loss = c.split(\",\")\n",
    "\n",
    "        times.append(float(timestamp))\n",
    "\n",
    "        losses.append(float(loss))\n",
    "\n",
    "\n",
    "        val_losses.append(float(val_loss))"
   ]
  },
  {
   "cell_type": "code",
   "execution_count": 34,
   "metadata": {},
   "outputs": [
    {
     "data": {
      "text/plain": [
       "1195148.75"
      ]
     },
     "execution_count": 34,
     "metadata": {},
     "output_type": "execute_result"
    }
   ],
   "source": [
    "losses[len(losses)-1]"
   ]
  },
  {
   "cell_type": "code",
   "execution_count": 35,
   "metadata": {},
   "outputs": [
    {
     "data": {
      "text/plain": [
       "'model-1584638689'"
      ]
     },
     "execution_count": 35,
     "metadata": {},
     "output_type": "execute_result"
    }
   ],
   "source": [
    "model_name"
   ]
  },
  {
   "cell_type": "code",
   "execution_count": null,
   "metadata": {},
   "outputs": [],
   "source": []
  }
 ],
 "metadata": {
  "kernelspec": {
   "display_name": "Python 3.6 [python/3.6 cuda/10.0.130]",
   "language": "python",
   "name": "sys_python36"
  },
  "language_info": {
   "codemirror_mode": {
    "name": "ipython",
    "version": 3
   },
   "file_extension": ".py",
   "mimetype": "text/x-python",
   "name": "python",
   "nbconvert_exporter": "python",
   "pygments_lexer": "ipython3",
   "version": "3.6.3"
  }
 },
 "nbformat": 4,
 "nbformat_minor": 2
}
